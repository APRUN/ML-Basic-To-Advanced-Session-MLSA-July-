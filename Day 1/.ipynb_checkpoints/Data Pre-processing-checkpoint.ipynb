{
 "cells": [
  {
   "cell_type": "markdown",
   "id": "fb482123-ca6b-41ed-85db-7d1dd9f726d0",
   "metadata": {},
   "source": [
    "# Data Pre-processing\n",
    "## Steps:\n",
    "1. **Getting Datasets**\n",
    "2. **Import Libraries**\n",
    "3. **Import Datasets**\n",
    "4. **Find Missing Values**\n",
    "5. **Encoding categorical dataset**\n",
    "6. **Splitting data into training and testing dataset**\n",
    "7. **Feature Scaling**"
   ]
  },
  {
   "cell_type": "code",
   "execution_count": 1,
   "id": "b752fc79-4dc3-45e9-a66a-6b21635760b6",
   "metadata": {},
   "outputs": [],
   "source": [
    "import pandas as pd\n",
    "import numpy as np "
   ]
  },
  {
   "cell_type": "code",
   "execution_count": 2,
   "id": "3eaf58de-7fc6-4a92-ae6e-c72f4e36ea3a",
   "metadata": {},
   "outputs": [
    {
     "data": {
      "text/html": [
       "<div>\n",
       "<style scoped>\n",
       "    .dataframe tbody tr th:only-of-type {\n",
       "        vertical-align: middle;\n",
       "    }\n",
       "\n",
       "    .dataframe tbody tr th {\n",
       "        vertical-align: top;\n",
       "    }\n",
       "\n",
       "    .dataframe thead th {\n",
       "        text-align: right;\n",
       "    }\n",
       "</style>\n",
       "<table border=\"1\" class=\"dataframe\">\n",
       "  <thead>\n",
       "    <tr style=\"text-align: right;\">\n",
       "      <th></th>\n",
       "      <th>Country</th>\n",
       "      <th>Age</th>\n",
       "      <th>Salary</th>\n",
       "      <th>Purchased</th>\n",
       "    </tr>\n",
       "  </thead>\n",
       "  <tbody>\n",
       "    <tr>\n",
       "      <th>0</th>\n",
       "      <td>France</td>\n",
       "      <td>44.0</td>\n",
       "      <td>72000.0</td>\n",
       "      <td>No</td>\n",
       "    </tr>\n",
       "    <tr>\n",
       "      <th>1</th>\n",
       "      <td>Spain</td>\n",
       "      <td>27.0</td>\n",
       "      <td>48000.0</td>\n",
       "      <td>Yes</td>\n",
       "    </tr>\n",
       "    <tr>\n",
       "      <th>2</th>\n",
       "      <td>Germany</td>\n",
       "      <td>30.0</td>\n",
       "      <td>54000.0</td>\n",
       "      <td>No</td>\n",
       "    </tr>\n",
       "    <tr>\n",
       "      <th>3</th>\n",
       "      <td>Spain</td>\n",
       "      <td>38.0</td>\n",
       "      <td>61000.0</td>\n",
       "      <td>No</td>\n",
       "    </tr>\n",
       "    <tr>\n",
       "      <th>4</th>\n",
       "      <td>Germany</td>\n",
       "      <td>40.0</td>\n",
       "      <td>NaN</td>\n",
       "      <td>Yes</td>\n",
       "    </tr>\n",
       "    <tr>\n",
       "      <th>5</th>\n",
       "      <td>France</td>\n",
       "      <td>35.0</td>\n",
       "      <td>58000.0</td>\n",
       "      <td>Yes</td>\n",
       "    </tr>\n",
       "    <tr>\n",
       "      <th>6</th>\n",
       "      <td>Spain</td>\n",
       "      <td>NaN</td>\n",
       "      <td>52000.0</td>\n",
       "      <td>No</td>\n",
       "    </tr>\n",
       "    <tr>\n",
       "      <th>7</th>\n",
       "      <td>France</td>\n",
       "      <td>48.0</td>\n",
       "      <td>83000.0</td>\n",
       "      <td>Yes</td>\n",
       "    </tr>\n",
       "    <tr>\n",
       "      <th>8</th>\n",
       "      <td>Germany</td>\n",
       "      <td>50.0</td>\n",
       "      <td>67000.0</td>\n",
       "      <td>No</td>\n",
       "    </tr>\n",
       "  </tbody>\n",
       "</table>\n",
       "</div>"
      ],
      "text/plain": [
       "   Country   Age   Salary Purchased\n",
       "0   France  44.0  72000.0        No\n",
       "1    Spain  27.0  48000.0       Yes\n",
       "2  Germany  30.0  54000.0        No\n",
       "3    Spain  38.0  61000.0        No\n",
       "4  Germany  40.0      NaN       Yes\n",
       "5   France  35.0  58000.0       Yes\n",
       "6    Spain   NaN  52000.0        No\n",
       "7   France  48.0  83000.0       Yes\n",
       "8  Germany  50.0  67000.0        No"
      ]
     },
     "execution_count": 2,
     "metadata": {},
     "output_type": "execute_result"
    }
   ],
   "source": [
    "dataset=pd.read_csv(\"Data.csv\")\n",
    "dataset"
   ]
  },
  {
   "cell_type": "code",
   "execution_count": 3,
   "id": "699b9761-9d50-4ce5-998b-02f2a494c9e9",
   "metadata": {},
   "outputs": [
    {
     "data": {
      "text/plain": [
       "array([['France', 44.0, 72000.0],\n",
       "       ['Spain', 27.0, 48000.0],\n",
       "       ['Germany', 30.0, 54000.0],\n",
       "       ['Spain', 38.0, 61000.0],\n",
       "       ['Germany', 40.0, nan],\n",
       "       ['France', 35.0, 58000.0],\n",
       "       ['Spain', nan, 52000.0],\n",
       "       ['France', 48.0, 83000.0],\n",
       "       ['Germany', 50.0, 67000.0]], dtype=object)"
      ]
     },
     "execution_count": 3,
     "metadata": {},
     "output_type": "execute_result"
    }
   ],
   "source": [
    "#x+y=z\n",
    "\n",
    "x=dataset[['Country','Age','Salary']].values #These are independent variable\n",
    "y=dataset[['Purchased']]\n",
    "\n",
    "x\n"
   ]
  },
  {
   "cell_type": "markdown",
   "id": "26654e67-bf27-41fb-a03e-3dd36f447e86",
   "metadata": {},
   "source": [
    "## Find Missing Values:"
   ]
  },
  {
   "cell_type": "code",
   "execution_count": 4,
   "id": "ae3b4570-76dc-4717-8ea1-7fc37fb43223",
   "metadata": {},
   "outputs": [
    {
     "data": {
      "text/plain": [
       "array([['France', 44.0, 72000.0],\n",
       "       ['Spain', 27.0, 48000.0],\n",
       "       ['Germany', 30.0, 54000.0],\n",
       "       ['Spain', 38.0, 61000.0],\n",
       "       ['Germany', 40.0, 59500.0],\n",
       "       ['France', 35.0, 58000.0],\n",
       "       ['Spain', 39.0, 52000.0],\n",
       "       ['France', 48.0, 83000.0],\n",
       "       ['Germany', 50.0, 67000.0]], dtype=object)"
      ]
     },
     "execution_count": 4,
     "metadata": {},
     "output_type": "execute_result"
    }
   ],
   "source": [
    "from sklearn.impute import SimpleImputer\n",
    "\n",
    "imputer=SimpleImputer(missing_values=np.nan, strategy='median') #default is mean\n",
    "imputer=imputer.fit(x[:,1:3])\n",
    "x[:,1:3]=imputer.transform(x[:,1:3])\n",
    "x\n"
   ]
  },
  {
   "cell_type": "markdown",
   "id": "206cb1f2-27e7-47e6-8b33-00afa89359ba",
   "metadata": {},
   "source": [
    "## Encoding Categorical Data:\n",
    "The country column will be encoded"
   ]
  },
  {
   "cell_type": "code",
   "execution_count": 6,
   "id": "e0d15b01-d20f-40f5-8d7e-21922b45fa2d",
   "metadata": {},
   "outputs": [
    {
     "data": {
      "text/plain": [
       "array([[0, 44.0, 72000.0],\n",
       "       [2, 27.0, 48000.0],\n",
       "       [1, 30.0, 54000.0],\n",
       "       [2, 38.0, 61000.0],\n",
       "       [1, 40.0, 59500.0],\n",
       "       [0, 35.0, 58000.0],\n",
       "       [2, 39.0, 52000.0],\n",
       "       [0, 48.0, 83000.0],\n",
       "       [1, 50.0, 67000.0]], dtype=object)"
      ]
     },
     "execution_count": 6,
     "metadata": {},
     "output_type": "execute_result"
    }
   ],
   "source": [
    "from sklearn.preprocessing import LabelEncoder\n",
    "\n",
    "label_encoder_x=LabelEncoder()\n",
    "x[:,0]=label_encoder_x.fit_transform(x[:,0])\n",
    "x"
   ]
  },
  {
   "cell_type": "markdown",
   "id": "f6928f6c-64e1-4aff-b91d-7c8dd277c284",
   "metadata": {},
   "source": [
    "## Training & Testing Dataset:"
   ]
  },
  {
   "cell_type": "code",
   "execution_count": 7,
   "id": "7283bfdc-1004-4df7-9abf-e571f7650f5b",
   "metadata": {},
   "outputs": [],
   "source": [
    "from sklearn.model_selection import train_test_split"
   ]
  },
  {
   "cell_type": "code",
   "execution_count": 8,
   "id": "a62e1019-1636-477e-ac54-39aa1d084311",
   "metadata": {},
   "outputs": [
    {
     "data": {
      "text/plain": [
       "(array([[2, 27.0, 48000.0],\n",
       "        [1, 40.0, 59500.0],\n",
       "        [1, 50.0, 67000.0],\n",
       "        [2, 39.0, 52000.0],\n",
       "        [2, 38.0, 61000.0],\n",
       "        [0, 44.0, 72000.0],\n",
       "        [0, 35.0, 58000.0]], dtype=object),\n",
       " array([[0, 48.0, 83000.0],\n",
       "        [1, 30.0, 54000.0]], dtype=object),\n",
       "   Purchased\n",
       " 1       Yes\n",
       " 4       Yes\n",
       " 8        No\n",
       " 6        No\n",
       " 3        No\n",
       " 0        No\n",
       " 5       Yes,\n",
       "   Purchased\n",
       " 7       Yes\n",
       " 2        No)"
      ]
     },
     "execution_count": 8,
     "metadata": {},
     "output_type": "execute_result"
    }
   ],
   "source": [
    "x_train,x_test,y_train,y_test=train_test_split(x,y,test_size=0.2, random_state=0)\n",
    "x_train,x_test,y_train,y_test\n"
   ]
  },
  {
   "cell_type": "markdown",
   "id": "949ae9b3-1252-4281-8322-755b13c51d60",
   "metadata": {},
   "source": [
    "# Feature Scaling:"
   ]
  },
  {
   "cell_type": "code",
   "execution_count": 9,
   "id": "3bcafe41-d378-4e81-bcaf-eecae6e1a9cf",
   "metadata": {},
   "outputs": [],
   "source": [
    "from sklearn.preprocessing import StandardScaler"
   ]
  },
  {
   "cell_type": "code",
   "execution_count": 11,
   "id": "98266370-3efe-48bd-a5a1-f5f53625932a",
   "metadata": {},
   "outputs": [
    {
     "data": {
      "text/plain": [
       "array([[ 1.02899151, -1.80906807, -1.52999381],\n",
       "       [-0.17149859,  0.15075567, -0.01877293],\n",
       "       [-0.17149859,  1.6583124 ,  0.9668059 ],\n",
       "       [ 1.02899151,  0.        , -1.00435176],\n",
       "       [ 1.02899151, -0.15075567,  0.17834284],\n",
       "       [-1.37198868,  0.75377836,  1.62385846],\n",
       "       [-1.37198868, -0.60302269, -0.2158887 ]])"
      ]
     },
     "execution_count": 11,
     "metadata": {},
     "output_type": "execute_result"
    }
   ],
   "source": [
    "sc_x=StandardScaler()\n",
    "x_train=sc_x.fit_transform(x_train)\n",
    "x_test=sc_x.fit_transform(x_test)\n",
    "x_test\n",
    "x_train"
   ]
  },
  {
   "cell_type": "markdown",
   "id": "46f8a5ba-7d2d-4681-8f66-76f1bcf372f9",
   "metadata": {},
   "source": []
  }
 ],
 "metadata": {
  "kernelspec": {
   "display_name": "Python 3 (ipykernel)",
   "language": "python",
   "name": "python3"
  },
  "language_info": {
   "codemirror_mode": {
    "name": "ipython",
    "version": 3
   },
   "file_extension": ".py",
   "mimetype": "text/x-python",
   "name": "python",
   "nbconvert_exporter": "python",
   "pygments_lexer": "ipython3",
   "version": "3.12.0"
  }
 },
 "nbformat": 4,
 "nbformat_minor": 5
}
